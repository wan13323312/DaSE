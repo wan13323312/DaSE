{
 "cells": [
  {
   "cell_type": "markdown",
   "metadata": {},
   "source": [
    "将原始数据分为训练集、测试集（随机种子请设置为1）（若有需要可以将训练集进一步分为训练集和验证集）。\n",
    "\n",
    "现在请建立一个二分类模型，使用训练集训练模型，再使用测试集测试模型。\n",
    "\n",
    "评估指标为F1值\n",
    "\n",
    "分类模型可采用：k-近邻、决策树、逻辑回归、支持向量机等。\n",
    "\n",
    "可以与周围同学比较一下F1值的大小（越接近1越好），看看谁的数据预处理和分类模型更强。"
   ]
  },
  {
   "cell_type": "markdown",
   "metadata": {},
   "source": [
    "我们可以用两种方式来试着做一做，我们试一试用k相邻和支持向量机两种咱们最熟悉也比较简单的方法来试一试， 其中空缺值咱们使用众数填充。"
   ]
  },
  {
   "cell_type": "code",
   "execution_count": 34,
   "metadata": {},
   "outputs": [
    {
     "name": "stdout",
     "output_type": "stream",
     "text": [
      "KNN f1 = 0.82\n",
      "SVM f1 = 0.85\n"
     ]
    }
   ],
   "source": [
    "import pandas as pd\n",
    "import numpy as np\n",
    "import matplotlib.pyplot as plt\n",
    "from sklearn import svm\n",
    "from sklearn.neighbors import KNeighborsClassifier\n",
    "from sklearn.model_selection import train_test_split\n",
    "from sklearn.metrics import f1_score\n",
    "\n",
    "raw_data = pd.read_csv('data//fraudulent.csv')\n",
    "tmp = [0, 0]\n",
    "for j in raw_data.columns:\n",
    "    for i in range(raw_data.shape[0]):\n",
    "        if raw_data.loc[i, j] == 0 or raw_data.loc[i, j] == 1:\n",
    "            tmp[int(raw_data.loc[i, j])] += 1\n",
    "    max_tmp = 0\n",
    "    if tmp[0] < tmp[1]:\n",
    "        max_tmp = 1\n",
    "    tmp = [0, 0]\n",
    "    for i in range(raw_data.shape[0]):\n",
    "        if raw_data.loc[i, j] != 0 and raw_data.loc[i, j] != 1:\n",
    "            raw_data.loc[i, j] = max_tmp\n",
    "y = raw_data['y']\n",
    "X = raw_data[[_ for _ in raw_data.columns if _ != 'y']]\n",
    "X_train, X_test, y_train, y_test = train_test_split(X, y, test_size = 0.2,  random_state = 1)\n",
    "\n",
    "knn = KNeighborsClassifier(n_neighbors = 3)\n",
    "knn.fit(X_train, y_train)\n",
    "\n",
    "y_predict = knn.predict(X_test)\n",
    "f1 = f1_score(y_test, y_predict)\n",
    "print(f'KNN f1 = {f1:.2f}')\n",
    "\n",
    "svm_classifier = svm.SVC(kernel = 'linear', C = 1, gamma = 'scale')\n",
    "svm_classifier.fit(X_train, y_train)\n",
    "y_pred = svm_classifier.predict(X_test)\n",
    "_f1 = f1_score(y_test, y_pred)\n",
    "print(f'SVM f1 = {_f1:.2f}')"
   ]
  },
  {
   "cell_type": "markdown",
   "metadata": {},
   "source": [
    "knn算法的f1值为0.82，而SVM达到0.85，并不太理想，我们想办法进行优化。对于数据预处理的方面，众数填充可能引入偏差。对于缺失值较多的数据我们选择删除。于是我们采取策略，如果一行的空缺值有三个及以上，这行数据就要删除掉。"
   ]
  },
  {
   "cell_type": "code",
   "execution_count": 40,
   "metadata": {},
   "outputs": [
    {
     "name": "stdout",
     "output_type": "stream",
     "text": [
      "KNN f1 = 0.87\n",
      "SVM f1 = 0.84\n"
     ]
    }
   ],
   "source": [
    "import pandas as pd\n",
    "import numpy as np\n",
    "import matplotlib.pyplot as plt\n",
    "from sklearn import svm\n",
    "from sklearn.neighbors import KNeighborsClassifier\n",
    "from sklearn.model_selection import train_test_split\n",
    "from sklearn.metrics import f1_score\n",
    "\n",
    "raw_data = pd.read_csv('data//fraudulent.csv')\n",
    "# print(raw_data.shape[0])\n",
    "\n",
    "for i in range(raw_data.shape[0]):\n",
    "    w_num = 0\n",
    "    for j in raw_data.columns:\n",
    "        if raw_data.loc[i, j] != raw_data.loc[i, j]:\n",
    "            w_num += 1\n",
    "    if w_num >= 3:\n",
    "        raw_data.drop(index = i, inplace = True)\n",
    "raw_data.reset_index(drop = True, inplace = True)\n",
    "# print(raw_data.shape[0])\n",
    "\n",
    "tmp = [0, 0]\n",
    "for j in raw_data.columns:\n",
    "    for i in range(raw_data.shape[0]):\n",
    "        if raw_data.loc[i, j] == 0 or raw_data.loc[i, j] == 1:\n",
    "            tmp[int(raw_data.loc[i, j])] += 1\n",
    "    max_tmp = 0\n",
    "    if tmp[0] < tmp[1]:\n",
    "        max_tmp = 1\n",
    "    tmp = [0, 0]\n",
    "    # print(max_tmp, end = ' ')\n",
    "    for i in range(raw_data.shape[0]):\n",
    "        if raw_data.loc[i, j] != 0 and raw_data.loc[i, j] != 1:\n",
    "            raw_data.loc[i, j] = max_tmp\n",
    "y = raw_data['y']\n",
    "X = raw_data[[_ for _ in raw_data.columns if _ != 'y']]\n",
    "X_train, X_test, y_train, y_test = train_test_split(X, y, test_size = 0.2,  random_state = 1)\n",
    "\n",
    "knn = KNeighborsClassifier(n_neighbors = 3)\n",
    "knn.fit(X_train, y_train)\n",
    "\n",
    "y_predict = knn.predict(X_test)\n",
    "f1 = f1_score(y_test, y_predict)\n",
    "print(f'KNN f1 = {f1:.2f}')\n",
    "\n",
    "svm_classifier = svm.SVC(kernel = 'linear', C = 1, gamma = 'scale')\n",
    "svm_classifier.fit(X_train, y_train)\n",
    "y_pred = svm_classifier.predict(X_test)\n",
    "_f1 = f1_score(y_test, y_pred)\n",
    "print(f'SVM f1 = {_f1:.2f}')"
   ]
  },
  {
   "cell_type": "markdown",
   "metadata": {},
   "source": [
    "删除了一些数据之后，KNN算法的f1值提升到了0.87，而SVM算法却降低了。我们尝试进行PCA降维。"
   ]
  },
  {
   "cell_type": "code",
   "execution_count": 44,
   "metadata": {},
   "outputs": [
    {
     "name": "stdout",
     "output_type": "stream",
     "text": [
      "KNN f1 = 0.81\n",
      "SVM f1 = 0.70\n"
     ]
    }
   ],
   "source": [
    "import pandas as pd\n",
    "import numpy as np\n",
    "import matplotlib.pyplot as plt\n",
    "from sklearn import svm\n",
    "from sklearn.neighbors import KNeighborsClassifier\n",
    "from sklearn.model_selection import train_test_split\n",
    "from sklearn.metrics import f1_score\n",
    "from sklearn.decomposition import PCA\n",
    "\n",
    "raw_data = pd.read_csv('data//fraudulent.csv')\n",
    "# print(raw_data.shape[0])\n",
    "\n",
    "for i in range(raw_data.shape[0]):\n",
    "    w_num = 0\n",
    "    for j in raw_data.columns:\n",
    "        if raw_data.loc[i, j] != raw_data.loc[i, j]:\n",
    "            w_num += 1\n",
    "    if w_num >= 3:\n",
    "        raw_data.drop(index = i, inplace = True)\n",
    "raw_data.reset_index(drop = True, inplace = True)\n",
    "# print(raw_data.shape[0])\n",
    "\n",
    "tmp = [0, 0]\n",
    "for j in raw_data.columns:\n",
    "    for i in range(raw_data.shape[0]):\n",
    "        if raw_data.loc[i, j] == 0 or raw_data.loc[i, j] == 1:\n",
    "            tmp[int(raw_data.loc[i, j])] += 1\n",
    "    max_tmp = 0\n",
    "    if tmp[0] < tmp[1]:\n",
    "        max_tmp = 1\n",
    "    tmp = [0, 0]\n",
    "    # print(max_tmp, end = ' ')\n",
    "    for i in range(raw_data.shape[0]):\n",
    "        if raw_data.loc[i, j] != 0 and raw_data.loc[i, j] != 1:\n",
    "            raw_data.loc[i, j] = max_tmp\n",
    "\n",
    "\n",
    "y = raw_data['y']\n",
    "X = raw_data[[_ for _ in raw_data.columns if _ != 'y']]\n",
    "pca = PCA(n_components = 2)\n",
    "X = pca.fit_transform(X)\n",
    "X_train, X_test, y_train, y_test = train_test_split(X, y, test_size = 0.2,  random_state = 1)\n",
    "\n",
    "knn = KNeighborsClassifier(n_neighbors = 3)\n",
    "knn.fit(X_train, y_train)\n",
    "\n",
    "y_predict = knn.predict(X_test)\n",
    "f1 = f1_score(y_test, y_predict)\n",
    "print(f'KNN f1 = {f1:.2f}')\n",
    "\n",
    "svm_classifier = svm.SVC(kernel = 'linear', C = 1, gamma = 'scale')\n",
    "svm_classifier.fit(X_train, y_train)\n",
    "y_pred = svm_classifier.predict(X_test)\n",
    "_f1 = f1_score(y_test, y_pred)\n",
    "print(f'SVM f1 = {_f1:.2f}')"
   ]
  },
  {
   "cell_type": "markdown",
   "metadata": {},
   "source": [
    "经过试验，pca降维并不能提高f1值，本质上降维是对数据的模糊化处理，期间丢失了信息，不能提升准确率是正常的。"
   ]
  },
  {
   "cell_type": "markdown",
   "metadata": {},
   "source": [
    "我们尝试使用逻辑回归模型，来看一下它的表现。"
   ]
  },
  {
   "cell_type": "code",
   "execution_count": null,
   "metadata": {},
   "outputs": [
    {
     "name": "stdout",
     "output_type": "stream",
     "text": [
      "KNN f1 = 0.87\n",
      "SVM f1 = 0.84\n",
      "Log f1 = 0.84\n"
     ]
    }
   ],
   "source": [
    "import pandas as pd\n",
    "import numpy as np\n",
    "import matplotlib.pyplot as plt\n",
    "from sklearn import svm\n",
    "from sklearn.neighbors import KNeighborsClassifier\n",
    "from sklearn.linear_model import LogisticRegression\n",
    "from sklearn.model_selection import train_test_split\n",
    "from sklearn.metrics import f1_score\n",
    "\n",
    "raw_data = pd.read_csv('data//fraudulent.csv')\n",
    "# print(raw_data.shape[0])\n",
    "\n",
    "for i in range(raw_data.shape[0]):\n",
    "    w_num = 0\n",
    "    for j in raw_data.columns:\n",
    "        if raw_data.loc[i, j] != raw_data.loc[i, j]:\n",
    "            w_num += 1\n",
    "    if w_num >= 3:\n",
    "        raw_data.drop(index = i, inplace = True)\n",
    "raw_data.reset_index(drop = True, inplace = True)\n",
    "\n",
    "tmp = [0, 0]\n",
    "for j in raw_data.columns:\n",
    "    for i in range(raw_data.shape[0]):\n",
    "        if raw_data.loc[i, j] == 0 or raw_data.loc[i, j] == 1:\n",
    "            tmp[int(raw_data.loc[i, j])] += 1\n",
    "    max_tmp = 0\n",
    "    if tmp[0] < tmp[1]:\n",
    "        max_tmp = 1\n",
    "    tmp = [0, 0]\n",
    "    # print(max_tmp, end = ' ')\n",
    "    for i in range(raw_data.shape[0]):\n",
    "        if raw_data.loc[i, j] != 0 and raw_data.loc[i, j] != 1:\n",
    "            raw_data.loc[i, j] = max_tmp\n",
    "y = raw_data['y']\n",
    "X = raw_data[[_ for _ in raw_data.columns if _ != 'y']]\n",
    "X_train, X_test, y_train, y_test = train_test_split(X, y, test_size = 0.2,  random_state = 1)\n",
    "\n",
    "knn = KNeighborsClassifier(n_neighbors = 3)\n",
    "knn.fit(X_train, y_train)\n",
    "\n",
    "y_predict_knn = knn.predict(X_test)\n",
    "f1_knn = f1_score(y_test, y_predict_knn)\n",
    "print(f'KNN f1 = {f1_knn:.2f}')\n",
    "\n",
    "svm_classifier = svm.SVC(kernel = 'linear', C = 1, gamma = 'scale')\n",
    "svm_classifier.fit(X_train, y_train)\n",
    "y_predict_svm = svm_classifier.predict(X_test)\n",
    "f1_svm = f1_score(y_test, y_predict_svm)\n",
    "print(f'SVM f1 = {f1_svm:.2f}')\n",
    "\n",
    "log = LogisticRegression(max_iter = 10000)\n",
    "log.fit(X_train,y_train)\n",
    "y_predict_log = log.predict(X_test)\n",
    "f1_log = f1_score(y_test, y_predict_log)\n",
    "print(f'Log f1 = {f1_log:.2f}')"
   ]
  },
  {
   "cell_type": "markdown",
   "metadata": {},
   "source": [
    "看起来表现好像一般，我们尝试使用交叉验证和网络搜索来训练模型，以达到更高的拟合度。"
   ]
  },
  {
   "cell_type": "code",
   "execution_count": 14,
   "metadata": {},
   "outputs": [
    {
     "name": "stdout",
     "output_type": "stream",
     "text": [
      "KNN f1 = 0.91\n",
      "SVM f1 = 0.90\n",
      "Log f1 = 0.90\n"
     ]
    }
   ],
   "source": [
    "import pandas as pd\n",
    "import numpy as np\n",
    "import matplotlib.pyplot as plt\n",
    "from sklearn import svm\n",
    "from sklearn.neighbors import KNeighborsClassifier\n",
    "from sklearn.linear_model import LogisticRegression\n",
    "from sklearn.model_selection import train_test_split, cross_val_score, GridSearchCV\n",
    "from sklearn.metrics import f1_score\n",
    "from sklearn.preprocessing import StandardScaler\n",
    "\n",
    "raw_data = pd.read_csv('data//fraudulent.csv')\n",
    "# print(raw_data.shape[0])\n",
    "\n",
    "for i in range(raw_data.shape[0]):\n",
    "    w_num = 0\n",
    "    for j in raw_data.columns:\n",
    "        if raw_data.loc[i, j] != raw_data.loc[i, j]:\n",
    "            w_num += 1\n",
    "    if w_num >= 3:\n",
    "        raw_data.drop(index = i, inplace = True)\n",
    "raw_data.reset_index(drop = True, inplace = True)\n",
    "\n",
    "tmp = [0, 0]\n",
    "for j in raw_data.columns:\n",
    "    for i in range(raw_data.shape[0]):\n",
    "        if raw_data.loc[i, j] == 0 or raw_data.loc[i, j] == 1:\n",
    "            tmp[int(raw_data.loc[i, j])] += 1\n",
    "    max_tmp = 0\n",
    "    if tmp[0] < tmp[1]:\n",
    "        max_tmp = 1\n",
    "    tmp = [0, 0]\n",
    "    # print(max_tmp, end = ' ')\n",
    "    for i in range(raw_data.shape[0]):\n",
    "        if raw_data.loc[i, j] != 0 and raw_data.loc[i, j] != 1:\n",
    "            raw_data.loc[i, j] = max_tmp\n",
    "y = raw_data['y']\n",
    "X = raw_data[[_ for _ in raw_data.columns if _ != 'y']]\n",
    "scaler = StandardScaler()\n",
    "X = scaler.fit_transform(X)\n",
    "X_train, X_test, y_train, y_test = train_test_split(X, y, test_size = 0.2,  random_state = 1)\n",
    "param_grid_knn = {'n_neighbors':[2, 3, 4, 5, 6, 7, 8, 9, 10]}\n",
    "param_grid_svm = {'C':[0.1, 0.5, 1, 5, 10]}\n",
    "param_grid_log = {'max_iter':[1000, 5000, 10000, 50000, 100000]}\n",
    "\n",
    "knn = KNeighborsClassifier()\n",
    "grid_search_knn = GridSearchCV(knn, param_grid_knn, cv = 5, scoring = 'f1')\n",
    "grid_search_knn.fit(X_train, y_train)\n",
    "knn_best = grid_search_knn.best_estimator_\n",
    "f1_knn = knn_best.score(X_test, y_test)\n",
    "print(f'KNN f1 = {f1_knn:.2f}')\n",
    "\n",
    "svm_classifier = svm.SVC(kernel = 'linear', gamma = 'scale')\n",
    "grid_search_svm = GridSearchCV(svm_classifier, param_grid_svm, cv = 5, scoring = 'f1')\n",
    "grid_search_svm.fit(X_train, y_train)\n",
    "svm_best = grid_search_svm.best_estimator_\n",
    "f1_svm = svm_best.score(X_test, y_test)\n",
    "print(f'SVM f1 = {f1_svm:.2f}')\n",
    "\n",
    "log = LogisticRegression()\n",
    "grid_search_log = GridSearchCV(log, param_grid_log, cv = 5, scoring = 'f1')\n",
    "grid_search_log.fit(X_train, y_train)\n",
    "log_best = grid_search_log.best_estimator_\n",
    "f1_log = log_best.score(X_test, y_test)\n",
    "print(f'Log f1 = {f1_log:.2f}')"
   ]
  },
  {
   "cell_type": "markdown",
   "metadata": {},
   "source": [
    "可以看到三个模型的f1都达到了0.9及以上，比起之前的0.85已经相当高了。"
   ]
  }
 ],
 "metadata": {
  "kernelspec": {
   "display_name": "Python 3",
   "language": "python",
   "name": "python3"
  },
  "language_info": {
   "codemirror_mode": {
    "name": "ipython",
    "version": 3
   },
   "file_extension": ".py",
   "mimetype": "text/x-python",
   "name": "python",
   "nbconvert_exporter": "python",
   "pygments_lexer": "ipython3",
   "version": "3.12.2"
  }
 },
 "nbformat": 4,
 "nbformat_minor": 2
}
