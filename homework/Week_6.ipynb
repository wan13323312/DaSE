{
 "cells": [
  {
   "cell_type": "markdown",
   "metadata": {},
   "source": [
    "1.编写 Python程序,判断输入a是否为质数"
   ]
  },
  {
   "cell_type": "code",
   "execution_count": 3,
   "metadata": {},
   "outputs": [
    {
     "name": "stdout",
     "output_type": "stream",
     "text": [
      "prime\n"
     ]
    }
   ],
   "source": [
    "import math\n",
    "a = int(input())\n",
    "flag = 0\n",
    "for i in range(2, int(math.sqrt(a))):\n",
    "    if a % i == 0:\n",
    "        flag = 1\n",
    "        break\n",
    "if (~flag):\n",
    "    print('prime')\n",
    "else :\n",
    "    print('not prime')\n",
    "#\n"
   ]
  },
  {
   "cell_type": "markdown",
   "metadata": {},
   "source": [
    "2.用Python实现插入排序该算法，不允许直接调用插入排序函数，需要手动实现其逻辑过程。"
   ]
  },
  {
   "cell_type": "code",
   "execution_count": 5,
   "metadata": {},
   "outputs": [
    {
     "name": "stdout",
     "output_type": "stream",
     "text": [
      "1 2 3 4 5 "
     ]
    }
   ],
   "source": [
    "n = int(input())\n",
    "a = []\n",
    "for i in range(n):\n",
    "    a.append(int(input()))\n",
    "for i in range(1, n):\n",
    "    j = i - 1\n",
    "    while(a[j] >= a[j + 1] and j >= 0):\n",
    "        a[j], a[j + 1] = a[j + 1], a[j]\n",
    "        j -= 1\n",
    "for i in range(n):\n",
    "    print(a[i], end = ' ')"
   ]
  },
  {
   "cell_type": "markdown",
   "metadata": {},
   "source": [
    "3.用Python实现选择排序该算法，不允许直接调用插入排序函数，需要手动实现其逻辑过程。"
   ]
  },
  {
   "cell_type": "code",
   "execution_count": 8,
   "metadata": {},
   "outputs": [
    {
     "name": "stdout",
     "output_type": "stream",
     "text": [
      "1 2 3 4 5 "
     ]
    }
   ],
   "source": [
    "n = int(input())\n",
    "a = []\n",
    "for i in range(n):\n",
    "    a.append(int(input()))\n",
    "for i in range(n):\n",
    "    minx = i\n",
    "    for j in range(i + 1, n):\n",
    "        if(a[j] < a[minx]):\n",
    "            minx = j\n",
    "    a[i], a[minx] = a[minx], a[i]\n",
    "for i in range(n):\n",
    "    print(a[i], end = ' ')"
   ]
  },
  {
   "cell_type": "markdown",
   "metadata": {},
   "source": [
    "4.用Python实现快速排序该算法，不允许直接调用插入排序函数，需要手动实现其逻辑过程。"
   ]
  },
  {
   "cell_type": "code",
   "execution_count": 11,
   "metadata": {},
   "outputs": [
    {
     "name": "stdout",
     "output_type": "stream",
     "text": [
      "1 2 3 4 5 "
     ]
    }
   ],
   "source": [
    "import random\n",
    "a = []\n",
    "def sort(x, y):\n",
    "    if x >= y:\n",
    "        return\n",
    "    global a\n",
    "    tmp = random.randint(x, y)\n",
    "    a[tmp], a[y] = a[y], a[tmp]\n",
    "    tmp1 = x - 1\n",
    "    for k in range(x, y):\n",
    "        if a[k] < a[y]:\n",
    "            tmp1 += 1\n",
    "            a[tmp1], a[k] = a[k], a[tmp1]\n",
    "    a[tmp1 + 1], a[y] = a[y], a[tmp1 + 1]\n",
    "    sort(x, tmp1)\n",
    "    sort(tmp1 + 1, y)\n",
    "\n",
    "n = int(input())\n",
    "for i in range(n):\n",
    "    a.append(int(input()))\n",
    "sort(0, n - 1)\n",
    "for i in range(n):\n",
    "    print(a[i], end = ' ')"
   ]
  },
  {
   "cell_type": "markdown",
   "metadata": {},
   "source": [
    "5.使用 Python 随机生成三组长度递增的随机数列，长度分别为100、1000、10000，对生成的随机数组使用不同的排序算法，例如选择排序和归并排序，至少三种排序方法。对这些数列的数据排序，并分析不同排序算法在不同长度数列下的运行效果，例如运行时间等指标。（可以使用排序函数）"
   ]
  },
  {
   "cell_type": "code",
   "execution_count": 43,
   "metadata": {},
   "outputs": [
    {
     "name": "stdout",
     "output_type": "stream",
     "text": [
      "0.000245  0.000310  0.000132\n",
      "0.029672  0.040564  0.001790\n",
      "3.066562  4.163580  0.019707\n"
     ]
    }
   ],
   "source": [
    "from datetime import datetime \n",
    "import time\n",
    "import random\n",
    "a1 = []\n",
    "a2 = []\n",
    "a3 = []\n",
    "def insertion_sort(x, y):\n",
    "    global a1\n",
    "    for i in range(x + 1, y + 1):\n",
    "        j = i - 1\n",
    "        while(a1[j] >= a1[j + 1] and j >= x):\n",
    "            a1[j], a1[j + 1] = a1[j + 1], a1[j]\n",
    "            j -= 1\n",
    "def bubble_sort(x, y):\n",
    "    global a2\n",
    "    for i in range(x, y):\n",
    "        for j in range(y - 1, i - 1, -1):\n",
    "            if(a2[j] > a2[j + 1]):\n",
    "                a2[j], a2[j + 1] = a2[j + 1], a2[j]\n",
    "def quick_sort(x, y):\n",
    "    global a3\n",
    "    if x >= y:\n",
    "        return\n",
    "    tmp = random.randint(x, y)\n",
    "    a3[tmp], a3[y] = a3[y], a3[tmp]\n",
    "    tmp1 = x - 1\n",
    "    for k in range(x, y):\n",
    "        if a3[k] < a3[y]:\n",
    "            tmp1 += 1\n",
    "            a3[tmp1], a3[k] = a3[k], a3[tmp1]\n",
    "    a3[tmp1 + 1], a3[y] = a3[y], a3[tmp1 + 1]\n",
    "    quick_sort(x, tmp1 + 1)\n",
    "    quick_sort(tmp1 + 2, y)\n",
    "def body(n):\n",
    "    global a1\n",
    "    global a2\n",
    "    global a3\n",
    "    a1 = [random.randint(0, 1000) for _ in range(n)]\n",
    "    a2 = a1[:]\n",
    "    a3 = a2[:]\n",
    "    time1 = time.perf_counter()\n",
    "    insertion_sort(0, n - 1)\n",
    "    time2 = time.perf_counter()\n",
    "    bubble_sort(0, n - 1)\n",
    "    time3 = time.perf_counter()\n",
    "    quick_sort(0, n - 1)\n",
    "    time4 = time.perf_counter()\n",
    "    timea = (time2 - time1)\n",
    "    timeb = (time3 - time2)\n",
    "    timec = (time4 - time3)\n",
    "    print(f\"{timea:.6f}  {timeb:.6f}  {timec:.6f}\")\n",
    "body(100)\n",
    "body(1000)\n",
    "body(10000)"
   ]
  },
  {
   "cell_type": "markdown",
   "metadata": {},
   "source": [
    "6.使用python代码获取当前系统时间"
   ]
  },
  {
   "cell_type": "code",
   "execution_count": 1,
   "metadata": {},
   "outputs": [
    {
     "name": "stdout",
     "output_type": "stream",
     "text": [
      "2024-10-17 13:17:53.540482\n"
     ]
    }
   ],
   "source": [
    "from datetime import datetime\n",
    "print(datetime.now())"
   ]
  },
  {
   "cell_type": "markdown",
   "metadata": {},
   "source": [
    "7. Homework/data文件夹下的stuGrade.csv文件中包含5位同学的学号、语文成绩、数学成绩和英语成绩，请先用记事本打开该文件，查看文件内容，然后编写Python程序，读取该文件，并计算出各科的平均成绩（保留2位小数）。"
   ]
  },
  {
   "cell_type": "code",
   "execution_count": 7,
   "metadata": {},
   "outputs": [
    {
     "name": "stdout",
     "output_type": "stream",
     "text": [
      "82.60 81.00 81.80\n"
     ]
    }
   ],
   "source": [
    "import pandas as pd\n",
    "import os\n",
    "file_csv = pd.read_csv('data//stuGrade.csv', sep = ',')\n",
    "sumc = summ = sume = 0\n",
    "for i in range(file_csv.shape[0]):\n",
    "    sumc += file_csv.loc[i, 'chinese']\n",
    "    summ += file_csv.loc[i, 'math']\n",
    "    sume += file_csv.loc[i, 'english']\n",
    "print(f'{sumc / 5:.2f} {summ / 5:.2f} {sume / 5:.2f}')\n"
   ]
  },
  {
   "cell_type": "markdown",
   "metadata": {},
   "source": [
    "8.请在第7题的代码继续编写Python程序，将以下内容写入my.txt文件中，一并上传到github中。\n",
    "\n",
    "第1行：你的学号和姓名\n",
    "\n",
    "第2行：3门课程的平均成绩（任意课程），保留2位小数，以英文逗号间隔\n",
    "\n",
    "第3行：系统当前时间，格式例如2020-01-01 12:00:00\n",
    "\n",
    "第4行：两秒后的系统当前时间（利用sleep()方法）"
   ]
  },
  {
   "cell_type": "code",
   "execution_count": 9,
   "metadata": {},
   "outputs": [],
   "source": [
    "import pandas as pd\n",
    "import os\n",
    "from datetime import datetime\n",
    "import time\n",
    "file_csv = pd.read_csv('data//stuGrade.csv', sep = ',')\n",
    "sumc = summ = sume = 0\n",
    "for i in range(file_csv.shape[0]):\n",
    "    sumc += file_csv.loc[i, 'chinese']\n",
    "    summ += file_csv.loc[i, 'math']\n",
    "    sume += file_csv.loc[i, 'english']\n",
    "line1 = '10235501460 阮翰文\\n'\n",
    "line2 = f'{sumc / 5:.2f},{summ / 5:.2f},{sume / 5:.2f}\\n'\n",
    "line3 = f'{datetime.now()}\\n'\n",
    "time.sleep(2)\n",
    "line4 = f'{datetime.now()}\\n'\n",
    "with open('my.txt', 'w', encoding = 'utf-8') as file:\n",
    "    file.write(line1 + line2 + line3 + line4)\n",
    "\n"
   ]
  }
 ],
 "metadata": {
  "kernelspec": {
   "display_name": "Python 3",
   "language": "python",
   "name": "python3"
  },
  "language_info": {
   "codemirror_mode": {
    "name": "ipython",
    "version": 3
   },
   "file_extension": ".py",
   "mimetype": "text/x-python",
   "name": "python",
   "nbconvert_exporter": "python",
   "pygments_lexer": "ipython3",
   "version": "3.12.2"
  }
 },
 "nbformat": 4,
 "nbformat_minor": 2
}
