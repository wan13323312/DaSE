{
 "cells": [
  {
   "cell_type": "markdown",
   "metadata": {},
   "source": [
    "#### 题目：寻找关键用户和分析社交关系\n",
    "##### data.json 数据描述\n",
    "1. 用户节点数据包含用户ID和他们的\"影响力分数\"，格式为[\"用户名称\", 影响力分数]。\n",
    "2. 边关系数据包含每两个用户之间的连接强度（即边的权重），格式为[\"用户名称1\", \"用户名称2\", 关系权重]。\n",
    "\n",
    "例如：\n",
    "- 节点：[\"Yanyan-Wang\", 50.95], [\"Aarebecca\", 23.82], ...\n",
    "- 边：[\"Yanyan-Wang\", \"Aarebecca\", 25.3], [\"Yanyan-Wang\", \"pomelo-nwu\", 25.09], ..."
   ]
  },
  {
   "cell_type": "markdown",
   "metadata": {},
   "source": [
    "#### 问题\n",
    "##### 1. 社交网络构建与分析\n",
    "- a. 使用邻接矩阵或者字典表示法来表示这个社交关系网络。\n",
    "- b. 请找出每个用户的直接朋友（即与其存在边关系的节点），并用列表形式列出。"
   ]
  },
  {
   "cell_type": "code",
   "execution_count": null,
   "metadata": {},
   "outputs": [],
   "source": [
    "import json\n",
    "with open('data//hw4_data.json', 'r', encoding = 'UTF-8')as file:\n",
    "    data = json.load(file)\n",
    "\n",
    "node_num = len(data['nodes'])\n",
    "edge_num = len(data['edges'])\n",
    "a = {}\n",
    "for i in range(node_num):\n",
    "    a[data['nodes'][i][0]] = i\n",
    "edge = [[0 for __ in range(node_num)] for _ in range(node_num)]\n",
    "for i in range(edge_num):\n",
    "    edge[a[data['edges'][i][0]]][a[data['edges'][i][1]]] = data['edges'][i][2]\n",
    "    edge[a[data['edges'][i][1]]][a[data['edges'][i][0]]] = data['edges'][i][2]\n",
    "for i in range(node_num):\n",
    "    tmp = []\n",
    "    for j in range(node_num):\n",
    "        if edge[i][j] != 0:\n",
    "            tmp.append(data['nodes'][j][0])\n",
    "    print(tmp)\n"
   ]
  },
  {
   "cell_type": "markdown",
   "metadata": {},
   "source": [
    "2. 统计与度中心性分析\n",
    "- a. 计算每个用户的度数（即直接朋友数量），列出度数最多的前5个用户及其朋友数量。\n",
    "- b. 通过影响力分数（如上所示），找出影响力最高的前5个用户。\n",
    "- c. 综合考虑影响力分数和朋友数量，列出对社交网络最有影响力的用户（可以选择将两者按一定比例加权，例如影响力得分的50%和朋友数量的50%）。"
   ]
  },
  {
   "cell_type": "code",
   "execution_count": null,
   "metadata": {},
   "outputs": [],
   "source": [
    "import json\n",
    "with open('data//hw4_data.json', 'r', encoding = 'UTF-8')as file:\n",
    "    data = json.load(file)\n",
    "\n",
    "node_num = len(data['nodes'])\n",
    "edge_num = len(data['edges'])\n",
    "a = {}\n",
    "for i in range(node_num):\n",
    "    a[data['nodes'][i][0]] = i\n",
    "##建立邻接矩阵\n",
    "edge = [[0 for __ in range(node_num)] for _ in range(node_num)]\n",
    "for i in range(edge_num):\n",
    "    edge[a[data['edges'][i][0]]][a[data['edges'][i][1]]] = data['edges'][i][2]\n",
    "    edge[a[data['edges'][i][1]]][a[data['edges'][i][0]]] = data['edges'][i][2]\n",
    "##计算朋友数量并排序\n",
    "print('Num:')\n",
    "friend_num = [0 for _ in range(node_num)]\n",
    "for i in range(node_num):\n",
    "    for j in range(node_num):\n",
    "        if edge[i][j] != 0:\n",
    "            friend_num[i] += 1\n",
    "name_to_friend_num = {}\n",
    "for i in range(node_num):\n",
    "    name_to_friend_num[data['nodes'][i][0]] = friend_num[i]\n",
    "name_to_friend_num = sorted(name_to_friend_num.items(), key = lambda item: item[1], reverse= 1)\n",
    "for i, (key, value) in enumerate(name_to_friend_num):\n",
    "    if i >= 5:\n",
    "        break\n",
    "    print(f'{key}, {value}')\n",
    "#对影响力建立字典并排序\n",
    "print('\\n Influence:')\n",
    "friend_influence = [0 for _ in range(node_num)]\n",
    "for i in range(node_num):\n",
    "    friend_influence[i] = data['nodes'][i][1]\n",
    "name_to_friend_influence = {}\n",
    "for i in range(node_num):\n",
    "    name_to_friend_influence[data['nodes'][i][0]] = friend_influence[i]\n",
    "name_to_friend_influence = sorted(name_to_friend_influence.items(), key = lambda item: item[1], reverse= 1)\n",
    "for i, (key, value) in enumerate(name_to_friend_influence):\n",
    "    if i >= 5:\n",
    "        break\n",
    "    print(f'{key}, {value}')\n",
    "##对总体影响力进行计算建立字典并排序\n",
    "print('\\n Total_Influence')\n",
    "total_influence = [0 for _ in range(node_num)]\n",
    "for i in range(node_num):\n",
    "    total_influence[i] = friend_influence[i] * friend_num[i]\n",
    "name_to_total_influence = {}\n",
    "for i in range(node_num):\n",
    "    name_to_total_influence[data['nodes'][i][0]] = total_influence[i]\n",
    "name_to_total_influence = sorted(name_to_total_influence.items(), key = lambda item: item[1], reverse= 1)\n",
    "for i, (key, value) in enumerate(name_to_total_influence):\n",
    "    if i >= 1:\n",
    "        break\n",
    "    print(f'{key}, {value}')\n"
   ]
  },
  {
   "cell_type": "markdown",
   "metadata": {},
   "source": [
    "3. 推荐新朋友\n",
    "- a. 对于用户 Yanyan-Wang，请找出其“朋友的朋友”中最有可能成为新朋友的用户，并列出推荐的理由（例如有最多共同的朋友）。\n",
    "- b. 考虑用户之间的连接强度，找出与 Yanyan-Wang 连接强度最高的5个用户（无论是否已经是直接朋友），并列出推荐排序。"
   ]
  },
  {
   "cell_type": "code",
   "execution_count": 16,
   "metadata": {},
   "outputs": [
    {
     "name": "stdout",
     "output_type": "stream",
     "text": [
      "will-ww, 6\n",
      "Aarebecca\n",
      "pomelo-nwu\n",
      "Yanyan-Wang\n",
      "yangzy0603\n",
      "tyn1998\n"
     ]
    }
   ],
   "source": [
    "import json\n",
    "with open('data//hw4_data.json', 'r', encoding = 'UTF-8')as file:\n",
    "    data = json.load(file)\n",
    "\n",
    "node_num = len(data['nodes'])\n",
    "edge_num = len(data['edges'])\n",
    "a = {}\n",
    "for i in range(node_num):\n",
    "    a[data['nodes'][i][0]] = i\n",
    "##建立邻接矩阵\n",
    "edge = [[0 for __ in range(node_num)] for _ in range(node_num)]\n",
    "for i in range(edge_num):\n",
    "    edge[a[data['edges'][i][0]]][a[data['edges'][i][1]]] = data['edges'][i][2]\n",
    "    edge[a[data['edges'][i][1]]][a[data['edges'][i][0]]] = data['edges'][i][2] \n",
    "mutual_friend = [0 for _ in range(node_num)]\n",
    "for i in range(1, node_num):\n",
    "    if edge[0][i] != 0:\n",
    "        continue\n",
    "    for j in range(1, node_num):\n",
    "        if edge[0][j] != 0 and edge[j][i] != 0:\n",
    "            mutual_friend[i] += 1\n",
    "name_to_mutual_friend = {}\n",
    "for i in range(node_num):\n",
    "    name_to_mutual_friend[data['nodes'][i][0]] = mutual_friend[i]\n",
    "name_to_mutual_friend = sorted(name_to_mutual_friend.items(), key = lambda item: item[1], reverse= 1)\n",
    "for i, (key, value) in enumerate(name_to_mutual_friend):\n",
    "    if i >= 1:\n",
    "        break\n",
    "    print(f'{key}, {value}')\n",
    "_edge = edge[:]\n",
    "for i in range(node_num):\n",
    "    for j in range(node_num):\n",
    "        edge[i][j] = edge[i][j] / 50\n",
    "for k in range(node_num):\n",
    "    for i in range(node_num):\n",
    "        for j in range(node_num):\n",
    "            edge[i][j] = max(edge[i][j], edge[i][k] * edge[k][j])\n",
    "friend_link = edge[0]\n",
    "name_to_friend_link = {}\n",
    "for i in range(node_num):\n",
    "    name_to_friend_link[data['nodes'][i][0]] = friend_link[i]\n",
    "name_to_friend_link = sorted(name_to_friend_link.items(), key = lambda item: item[1], reverse= 1)\n",
    "for i, (key, value) in enumerate(name_to_friend_link):\n",
    "    if i >= 5:\n",
    "        break\n",
    "    print(f'{key}')"
   ]
  },
  {
   "cell_type": "markdown",
   "metadata": {},
   "source": [
    "最可能成为新朋友的是will-ww，因为他们之间的朋友数量最多，有六个\n",
    "\n",
    "我将所有的边权除以50来保证都小于1，两个不是朋友的人之间用中间经过的所有边权相乘的最大值来作为两个人之间的联系，得到的联系最强的五个人的名字如上。"
   ]
  },
  {
   "cell_type": "markdown",
   "metadata": {},
   "source": [
    "4. 网络图的可视化\n",
    "- a. 使用图论可视化工具绘制用户关系网络图，展示关键用户和他们的连接情况。\n",
    "- b. 你可以对图中的节点按“影响力得分”进行着色，节点的大小则代表度数，尝试解释在图中哪些用户在社交网络中最具影响力。"
   ]
  },
  {
   "cell_type": "code",
   "execution_count": null,
   "metadata": {},
   "outputs": [],
   "source": [
    "import json\n",
    "import networkx as nx\n",
    "import matplotlib as plt\n",
    "with open('data//hw4_data.json', 'r', encoding = 'UTF-8')as file:\n",
    "    data = json.load(file)\n",
    "\n",
    "node_num = len(data['nodes'])\n",
    "edge_num = len(data['edges'])\n",
    "a = {}\n",
    "node = []\n",
    "edge = []\n",
    "for i in range(node_num):\n",
    "    a[data['nodes'][i][0]] = i\n",
    "    node.append(i)\n",
    "for i in range(edge_num):\n",
    "    edge.append((a[data['edges'][i][0]], a[data['edges'][i][1]]))\n",
    "G = nx.Graph()\n",
    "G.add_nodes_from(node)\n",
    "G.add_edges_from(edge)\n",
    "nx.draw(G)\n",
    "plt.show()"
   ]
  },
  {
   "cell_type": "markdown",
   "metadata": {},
   "source": [
    "因为边太多了输出像一团乱麻。。\n",
    " \n",
    "我们可以通过着色的办法看出0号节点Yangyang-Wang的影响力很大，因为他的朋友很多且影响力也较大"
   ]
  }
 ],
 "metadata": {
  "kernelspec": {
   "display_name": "Python 3",
   "language": "python",
   "name": "python3"
  },
  "language_info": {
   "codemirror_mode": {
    "name": "ipython",
    "version": 3
   },
   "file_extension": ".py",
   "mimetype": "text/x-python",
   "name": "python",
   "nbconvert_exporter": "python",
   "pygments_lexer": "ipython3",
   "version": "3.12.2"
  }
 },
 "nbformat": 4,
 "nbformat_minor": 2
}
